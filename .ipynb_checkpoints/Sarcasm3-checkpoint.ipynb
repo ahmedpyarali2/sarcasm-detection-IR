{
 "cells": [
  {
   "cell_type": "code",
   "execution_count": 1,
   "metadata": {
    "collapsed": false
   },
   "outputs": [],
   "source": [
    "%matplotlib inline\n",
    "import pandas as pd\n",
    "import numpy as np\n",
    "import matplotlib.pyplot as plt\n",
    "from nltk.corpus import sentiwordnet as swn\n",
    "from nltk.tokenize import word_tokenize\n",
    "from nltk.corpus import stopwords\n",
    "import nltk\n",
    "import re"
   ]
  },
  {
   "cell_type": "code",
   "execution_count": 2,
   "metadata": {
    "collapsed": false
   },
   "outputs": [
    {
     "name": "stderr",
     "output_type": "stream",
     "text": [
      "c:\\program files\\python35\\lib\\site-packages\\sklearn\\cross_validation.py:44: DeprecationWarning: This module was deprecated in version 0.18 in favor of the model_selection module into which all the refactored classes and functions are moved. Also note that the interface of the new CV iterators are different from that of this module. This module will be removed in 0.20.\n",
      "  \"This module will be removed in 0.20.\", DeprecationWarning)\n"
     ]
    }
   ],
   "source": [
    "from sklearn.model_selection import KFold\n",
    "from sklearn.ensemble import RandomForestClassifier\n",
    "from sklearn.svm import SVC\n",
    "from sklearn.metrics import accuracy_score, f1_score, precision_score, recall_score\n",
    "from sklearn.model_selection import train_test_split\n",
    "from xgboost import XGBClassifier"
   ]
  },
  {
   "cell_type": "code",
   "execution_count": 3,
   "metadata": {
    "collapsed": true
   },
   "outputs": [],
   "source": [
    "plt.style.use('ggplot')\n",
    "reddit_df = pd.read_csv('../Data/reddit_training.csv')\n",
    "pd.set_option('display.max_columns', None, 'display.max_colwidth', -1)"
   ]
  },
  {
   "cell_type": "code",
   "execution_count": 4,
   "metadata": {
    "collapsed": false
   },
   "outputs": [
    {
     "data": {
      "text/plain": [
       "(2694, 11)"
      ]
     },
     "execution_count": 4,
     "metadata": {},
     "output_type": "execute_result"
    }
   ],
   "source": [
    "reddit_df.shape"
   ]
  },
  {
   "cell_type": "code",
   "execution_count": 5,
   "metadata": {
    "collapsed": true
   },
   "outputs": [],
   "source": [
    "reddit_df['sarcasm_tag'] = reddit_df['sarcasm_tag'].map({'yes' : 1, 'no' : 0})"
   ]
  },
  {
   "cell_type": "code",
   "execution_count": 6,
   "metadata": {
    "collapsed": false
   },
   "outputs": [
    {
     "data": {
      "text/html": [
       "<div>\n",
       "<table border=\"1\" class=\"dataframe\">\n",
       "  <thead>\n",
       "    <tr style=\"text-align: right;\">\n",
       "      <th></th>\n",
       "      <th>index</th>\n",
       "      <th>body</th>\n",
       "      <th>author</th>\n",
       "      <th>created_utc</th>\n",
       "      <th>subreddit_id</th>\n",
       "      <th>link_id</th>\n",
       "      <th>parent_id</th>\n",
       "      <th>score</th>\n",
       "      <th>id</th>\n",
       "      <th>subreddit</th>\n",
       "      <th>sarcasm_tag</th>\n",
       "    </tr>\n",
       "  </thead>\n",
       "  <tbody>\n",
       "    <tr>\n",
       "      <th>2652</th>\n",
       "      <td>3913</td>\n",
       "      <td>Oh, I didn't know the Daily Show sponsored the Presidential Dinner.</td>\n",
       "      <td>HATE-THE-STATE</td>\n",
       "      <td>1443640543</td>\n",
       "      <td>t5_2qh6e</td>\n",
       "      <td>t3_3mvg4o</td>\n",
       "      <td>t1_cvjlham</td>\n",
       "      <td>1</td>\n",
       "      <td>cvjmjl3</td>\n",
       "      <td>television</td>\n",
       "      <td>1</td>\n",
       "    </tr>\n",
       "  </tbody>\n",
       "</table>\n",
       "</div>"
      ],
      "text/plain": [
       "      index  \\\n",
       "2652  3913    \n",
       "\n",
       "                                                                     body  \\\n",
       "2652  Oh, I didn't know the Daily Show sponsored the Presidential Dinner.   \n",
       "\n",
       "              author  created_utc subreddit_id    link_id   parent_id  score  \\\n",
       "2652  HATE-THE-STATE  1443640543   t5_2qh6e     t3_3mvg4o  t1_cvjlham  1       \n",
       "\n",
       "           id   subreddit  sarcasm_tag  \n",
       "2652  cvjmjl3  television  1            "
      ]
     },
     "execution_count": 6,
     "metadata": {},
     "output_type": "execute_result"
    }
   ],
   "source": [
    "reddit_df[reddit_df.sarcasm_tag == 1].tail(1)"
   ]
  },
  {
   "cell_type": "code",
   "execution_count": 7,
   "metadata": {
    "collapsed": false
   },
   "outputs": [
    {
     "data": {
      "text/plain": [
       "0    2611\n",
       "1    83  \n",
       "Name: sarcasm_tag, dtype: int64"
      ]
     },
     "execution_count": 7,
     "metadata": {},
     "output_type": "execute_result"
    }
   ],
   "source": [
    "reddit_df.sarcasm_tag.value_counts()"
   ]
  },
  {
   "cell_type": "code",
   "execution_count": 8,
   "metadata": {
    "collapsed": true
   },
   "outputs": [],
   "source": [
    "sw = stopwords.words('english')"
   ]
  },
  {
   "cell_type": "code",
   "execution_count": 9,
   "metadata": {
    "collapsed": true
   },
   "outputs": [],
   "source": [
    "pos_polarity = []\n",
    "neg_polarity = []\n",
    "for i in range(0, reddit_df.shape[0]):\n",
    "    pos_score = 0\n",
    "    neg_score = 0\n",
    "    for w in word_tokenize(reddit_df.iloc[i]['body']):\n",
    "        if w not in sw:\n",
    "            try:\n",
    "                sent = list(swn.senti_synsets(w))[0]\n",
    "                pos_score += sent.pos_score()\n",
    "                neg_score += sent.neg_score()\n",
    "            except:\n",
    "                pass\n",
    "    pos_polarity.append(pos_score)\n",
    "    neg_polarity.append(neg_score)"
   ]
  },
  {
   "cell_type": "code",
   "execution_count": 10,
   "metadata": {
    "collapsed": true
   },
   "outputs": [],
   "source": [
    "reddit_df['negative_polarity'] = neg_polarity\n",
    "reddit_df['positive_polarity'] = pos_polarity"
   ]
  },
  {
   "cell_type": "code",
   "execution_count": 11,
   "metadata": {
    "collapsed": false
   },
   "outputs": [
    {
     "data": {
      "text/html": [
       "<div>\n",
       "<table border=\"1\" class=\"dataframe\">\n",
       "  <thead>\n",
       "    <tr style=\"text-align: right;\">\n",
       "      <th></th>\n",
       "      <th>index</th>\n",
       "      <th>body</th>\n",
       "      <th>author</th>\n",
       "      <th>created_utc</th>\n",
       "      <th>subreddit_id</th>\n",
       "      <th>link_id</th>\n",
       "      <th>parent_id</th>\n",
       "      <th>score</th>\n",
       "      <th>id</th>\n",
       "      <th>subreddit</th>\n",
       "      <th>sarcasm_tag</th>\n",
       "      <th>negative_polarity</th>\n",
       "      <th>positive_polarity</th>\n",
       "    </tr>\n",
       "  </thead>\n",
       "  <tbody>\n",
       "    <tr>\n",
       "      <th>32</th>\n",
       "      <td>3821</td>\n",
       "      <td>&amp;gt; It's just not. \\n\\nWow way to really contribute to the discussion. \"Just accept some things are shitty.\"\\n\\n</td>\n",
       "      <td>ropeadoped</td>\n",
       "      <td>1441425716</td>\n",
       "      <td>t5_2qh6e</td>\n",
       "      <td>t3_3jp4fr</td>\n",
       "      <td>t1_cur6sdt</td>\n",
       "      <td>-4</td>\n",
       "      <td>cur83kh</td>\n",
       "      <td>television</td>\n",
       "      <td>1</td>\n",
       "      <td>1.375</td>\n",
       "      <td>2.125</td>\n",
       "    </tr>\n",
       "    <tr>\n",
       "      <th>116</th>\n",
       "      <td>3822</td>\n",
       "      <td>Maybe you shouldn't be in a thread about the best scenes from this year's television??</td>\n",
       "      <td>Damn_Dog_Inappropes</td>\n",
       "      <td>1441486521</td>\n",
       "      <td>t5_2qh6e</td>\n",
       "      <td>t3_3jpljt</td>\n",
       "      <td>t1_curjpl4</td>\n",
       "      <td>4</td>\n",
       "      <td>curu8ht</td>\n",
       "      <td>television</td>\n",
       "      <td>1</td>\n",
       "      <td>0.000</td>\n",
       "      <td>0.250</td>\n",
       "    </tr>\n",
       "    <tr>\n",
       "      <th>121</th>\n",
       "      <td>3824</td>\n",
       "      <td>FUCK!! FUCK!! FUCK!!! FUUCCCCCCCCK!!! BOMBOBLOODCLAAT!!! 😣😤😡😡😡😡😡 \\n\\nYou've just ruined The Americans season 3 for me!! Fuck!! I just finished season 2 😢</td>\n",
       "      <td>Kush_Daz</td>\n",
       "      <td>1441491179</td>\n",
       "      <td>t5_2qh6e</td>\n",
       "      <td>t3_3jpljt</td>\n",
       "      <td>t1_curqbij</td>\n",
       "      <td>0</td>\n",
       "      <td>curwkwl</td>\n",
       "      <td>television</td>\n",
       "      <td>1</td>\n",
       "      <td>0.500</td>\n",
       "      <td>0.000</td>\n",
       "    </tr>\n",
       "    <tr>\n",
       "      <th>126</th>\n",
       "      <td>3823</td>\n",
       "      <td>OH MY GOD I AM SO SORRY!!!! FUCK! I feel so bad now. I will do everything in my power to make this up for you!</td>\n",
       "      <td>Joename_</td>\n",
       "      <td>1441498254</td>\n",
       "      <td>t5_2qh6e</td>\n",
       "      <td>t3_3jpljt</td>\n",
       "      <td>t1_curwkwl</td>\n",
       "      <td>2</td>\n",
       "      <td>cus02ym</td>\n",
       "      <td>television</td>\n",
       "      <td>1</td>\n",
       "      <td>1.500</td>\n",
       "      <td>0.625</td>\n",
       "    </tr>\n",
       "    <tr>\n",
       "      <th>161</th>\n",
       "      <td>3825</td>\n",
       "      <td>You mean piracy?</td>\n",
       "      <td>PicopicoEMD</td>\n",
       "      <td>1441583828</td>\n",
       "      <td>t5_2qh6e</td>\n",
       "      <td>t3_3jw7qx</td>\n",
       "      <td>t3_3jw7qx</td>\n",
       "      <td>-1</td>\n",
       "      <td>cusy92j</td>\n",
       "      <td>television</td>\n",
       "      <td>1</td>\n",
       "      <td>0.000</td>\n",
       "      <td>0.000</td>\n",
       "    </tr>\n",
       "  </tbody>\n",
       "</table>\n",
       "</div>"
      ],
      "text/plain": [
       "     index  \\\n",
       "32   3821    \n",
       "116  3822    \n",
       "121  3824    \n",
       "126  3823    \n",
       "161  3825    \n",
       "\n",
       "                                                                                                                                                          body  \\\n",
       "32   &gt; It's just not. \\n\\nWow way to really contribute to the discussion. \"Just accept some things are shitty.\"\\n\\n                                           \n",
       "116  Maybe you shouldn't be in a thread about the best scenes from this year's television??                                                                      \n",
       "121  FUCK!! FUCK!! FUCK!!! FUUCCCCCCCCK!!! BOMBOBLOODCLAAT!!! 😣😤😡😡😡😡😡 \\n\\nYou've just ruined The Americans season 3 for me!! Fuck!! I just finished season 2 😢   \n",
       "126  OH MY GOD I AM SO SORRY!!!! FUCK! I feel so bad now. I will do everything in my power to make this up for you!                                              \n",
       "161  You mean piracy?                                                                                                                                            \n",
       "\n",
       "                  author  created_utc subreddit_id    link_id   parent_id  \\\n",
       "32   ropeadoped           1441425716   t5_2qh6e     t3_3jp4fr  t1_cur6sdt   \n",
       "116  Damn_Dog_Inappropes  1441486521   t5_2qh6e     t3_3jpljt  t1_curjpl4   \n",
       "121  Kush_Daz             1441491179   t5_2qh6e     t3_3jpljt  t1_curqbij   \n",
       "126  Joename_             1441498254   t5_2qh6e     t3_3jpljt  t1_curwkwl   \n",
       "161  PicopicoEMD          1441583828   t5_2qh6e     t3_3jw7qx  t3_3jw7qx    \n",
       "\n",
       "     score       id   subreddit  sarcasm_tag  negative_polarity  \\\n",
       "32  -4      cur83kh  television  1            1.375               \n",
       "116  4      curu8ht  television  1            0.000               \n",
       "121  0      curwkwl  television  1            0.500               \n",
       "126  2      cus02ym  television  1            1.500               \n",
       "161 -1      cusy92j  television  1            0.000               \n",
       "\n",
       "     positive_polarity  \n",
       "32   2.125              \n",
       "116  0.250              \n",
       "121  0.000              \n",
       "126  0.625              \n",
       "161  0.000              "
      ]
     },
     "execution_count": 11,
     "metadata": {},
     "output_type": "execute_result"
    }
   ],
   "source": [
    "reddit_df[reddit_df.sarcasm_tag==1].head()"
   ]
  },
  {
   "cell_type": "code",
   "execution_count": 12,
   "metadata": {
    "collapsed": false
   },
   "outputs": [
    {
     "data": {
      "image/png": "[encoded data removed]",
      "text/plain": [
       "<matplotlib.figure.Figure at 0x85d89f8860>"
      ]
     },
     "metadata": {},
     "output_type": "display_data"
    }
   ],
   "source": [
    "plt.scatter(x=reddit_df[reddit_df.sarcasm_tag == 0]['positive_polarity'], y=reddit_df[reddit_df.sarcasm_tag == 0]['negative_polarity'], label='No', c='green', alpha=.5)\n",
    "plt.scatter(x=reddit_df[reddit_df.sarcasm_tag == 1]['positive_polarity'], y=reddit_df[reddit_df.sarcasm_tag == 1]['negative_polarity'],label='Yes', c='red')\n",
    "plt.legend()\n",
    "plt.xlabel('Positive score')\n",
    "plt.ylabel('Negative score')\n",
    "plt.savefig('scatter.png')"
   ]
  },
  {
   "cell_type": "code",
   "execution_count": 13,
   "metadata": {
    "collapsed": true
   },
   "outputs": [],
   "source": [
    "reddit_df['total_sent'] = reddit_df['positive_polarity'] + reddit_df['negative_polarity']"
   ]
  },
  {
   "cell_type": "code",
   "execution_count": 14,
   "metadata": {
    "collapsed": false
   },
   "outputs": [
    {
     "data": {
      "text/plain": [
       "index                0\n",
       "body                 0\n",
       "author               0\n",
       "created_utc          0\n",
       "subreddit_id         0\n",
       "link_id              0\n",
       "parent_id            0\n",
       "score                0\n",
       "id                   0\n",
       "subreddit            0\n",
       "sarcasm_tag          0\n",
       "negative_polarity    0\n",
       "positive_polarity    0\n",
       "total_sent           0\n",
       "dtype: int64"
      ]
     },
     "execution_count": 14,
     "metadata": {},
     "output_type": "execute_result"
    }
   ],
   "source": [
    "reddit_df.isnull().sum()"
   ]
  },
  {
   "cell_type": "code",
   "execution_count": 15,
   "metadata": {
    "collapsed": false
   },
   "outputs": [
    {
     "data": {
      "text/plain": [
       "[<matplotlib.lines.Line2D at 0x85d8c062b0>]"
      ]
     },
     "execution_count": 15,
     "metadata": {},
     "output_type": "execute_result"
    },
    {
     "data": {
      "image/png": "[encoded data removed]",
      "text/plain": [
       "<matplotlib.figure.Figure at 0x85cbe7a8d0>"
      ]
     },
     "metadata": {},
     "output_type": "display_data"
    }
   ],
   "source": [
    "plt.plot(reddit_df[reddit_df.sarcasm_tag == 0]['total_sent'])\n",
    "plt.plot(reddit_df[reddit_df.sarcasm_tag == 1]['total_sent'])"
   ]
  },
  {
   "cell_type": "code",
   "execution_count": 16,
   "metadata": {
    "collapsed": true
   },
   "outputs": [],
   "source": [
    "X = reddit_df.ix[:, ['score', 'negative_polarity', 'positive_polarity']]\n",
    "y = reddit_df['sarcasm_tag']"
   ]
  },
  {
   "cell_type": "code",
   "execution_count": 17,
   "metadata": {
    "collapsed": true
   },
   "outputs": [],
   "source": [
    "rf = RandomForestClassifier(n_estimators=200, criterion='entropy')"
   ]
  },
  {
   "cell_type": "code",
   "execution_count": 18,
   "metadata": {
    "collapsed": true
   },
   "outputs": [],
   "source": [
    "kf = KFold(n_splits=5, random_state=1)"
   ]
  },
  {
   "cell_type": "code",
   "execution_count": 19,
   "metadata": {
    "collapsed": false
   },
   "outputs": [
    {
     "name": "stdout",
     "output_type": "stream",
     "text": [
      "0.420321637427\n"
     ]
    }
   ],
   "source": [
    "accuracy = []\n",
    "for train, test in kf.split(X):\n",
    "    X_train = X.ix[train[0] : train[-1], :]\n",
    "    y_train = y.ix[train[0] : train[-1]]\n",
    "    \n",
    "    X_test = X.ix[test[0] : test[-1], :]\n",
    "    y_test =  y.ix[test[0] : test[-1]]\n",
    "    \n",
    "    rf.fit(X_train, y_train)\n",
    "    accuracy.append(f1_score(y_test, rf.predict(X_test)))\n",
    "print(np.mean(np.array(accuracy)))"
   ]
  },
  {
   "cell_type": "code",
   "execution_count": 20,
   "metadata": {
    "collapsed": true
   },
   "outputs": [],
   "source": [
    "predicts = rf.predict(X)"
   ]
  },
  {
   "cell_type": "code",
   "execution_count": 21,
   "metadata": {
    "collapsed": true
   },
   "outputs": [],
   "source": [
    "reddit_df['predicts'] = predicts"
   ]
  },
  {
   "cell_type": "code",
   "execution_count": 22,
   "metadata": {
    "collapsed": false
   },
   "outputs": [
    {
     "data": {
      "text/plain": [
       "53"
      ]
     },
     "execution_count": 22,
     "metadata": {},
     "output_type": "execute_result"
    }
   ],
   "source": [
    "len(reddit_df[(reddit_df.predicts != reddit_df.sarcasm_tag)])"
   ]
  },
  {
   "cell_type": "code",
   "execution_count": 23,
   "metadata": {
    "collapsed": false
   },
   "outputs": [],
   "source": [
    "def get_trianing_testing(yes_label_size=0.6):\n",
    "    yes_label_size = 83 * 0.6\n",
    "    train_data_yes = reddit_df[reddit_df.sarcasm_tag == 1]\n",
    "    train_data = pd.DataFrame()\n",
    "    train_data = train_data_yes.sample(frac=0.6)\n",
    "    test_data = train_data_yes.loc[~train_data_yes.index.isin(train_data.index)]\n",
    "    train_data = pd.concat([train_data, reddit_df[reddit_df.sarcasm_tag == 0].sample(frac = 0.2)])\n",
    "    return (train_data, test_data)\n",
    "        "
   ]
  },
  {
   "cell_type": "code",
   "execution_count": 24,
   "metadata": {
    "collapsed": false
   },
   "outputs": [],
   "source": [
    "train_yes, test_yes = get_trianing_testing()"
   ]
  },
  {
   "cell_type": "code",
   "execution_count": 25,
   "metadata": {
    "collapsed": true
   },
   "outputs": [],
   "source": [
    "train = pd.concat([reddit_df[reddit_df.sarcasm_tag == 0], train_yes], axis=0)"
   ]
  },
  {
   "cell_type": "code",
   "execution_count": 26,
   "metadata": {
    "collapsed": false
   },
   "outputs": [
    {
     "data": {
      "text/plain": [
       "(572, 15)"
      ]
     },
     "execution_count": 26,
     "metadata": {},
     "output_type": "execute_result"
    }
   ],
   "source": [
    "train_yes.shape"
   ]
  },
  {
   "cell_type": "code",
   "execution_count": 27,
   "metadata": {
    "collapsed": false
   },
   "outputs": [],
   "source": [
    "X_train = train.ix[:, ['score', 'negative_polarity', 'positive_polarity']]\n",
    "y_train = train['sarcasm_tag']\n",
    "\n",
    "X_test = test_yes.ix[:, ['score', 'negative_polarity', 'positive_polarity']]\n",
    "y_test = test_yes['sarcasm_tag']"
   ]
  },
  {
   "cell_type": "code",
   "execution_count": 28,
   "metadata": {
    "collapsed": false
   },
   "outputs": [
    {
     "data": {
      "text/plain": [
       "RandomForestClassifier(bootstrap=True, class_weight=None, criterion='entropy',\n",
       "            max_depth=None, max_features='auto', max_leaf_nodes=None,\n",
       "            min_impurity_split=1e-07, min_samples_leaf=1,\n",
       "            min_samples_split=2, min_weight_fraction_leaf=0.0,\n",
       "            n_estimators=200, n_jobs=1, oob_score=False, random_state=None,\n",
       "            verbose=0, warm_start=False)"
      ]
     },
     "execution_count": 28,
     "metadata": {},
     "output_type": "execute_result"
    }
   ],
   "source": [
    "rf.fit(X_train, y_train)"
   ]
  },
  {
   "cell_type": "code",
   "execution_count": 29,
   "metadata": {
    "collapsed": false
   },
   "outputs": [
    {
     "data": {
      "text/plain": [
       "0.060606060606060608"
      ]
     },
     "execution_count": 29,
     "metadata": {},
     "output_type": "execute_result"
    }
   ],
   "source": [
    "accuracy_score(y_test, rf.predict(X_test))"
   ]
  },
  {
   "cell_type": "code",
   "execution_count": 30,
   "metadata": {
    "collapsed": true
   },
   "outputs": [],
   "source": [
    "svm = SVC(probability=True)"
   ]
  },
  {
   "cell_type": "code",
   "execution_count": 31,
   "metadata": {
    "collapsed": false
   },
   "outputs": [
    {
     "data": {
      "text/plain": [
       "SVC(C=1.0, cache_size=200, class_weight=None, coef0=0.0,\n",
       "  decision_function_shape=None, degree=3, gamma='auto', kernel='rbf',\n",
       "  max_iter=-1, probability=True, random_state=None, shrinking=True,\n",
       "  tol=0.001, verbose=False)"
      ]
     },
     "execution_count": 31,
     "metadata": {},
     "output_type": "execute_result"
    }
   ],
   "source": [
    "svm.fit(X_train, y_train)"
   ]
  },
  {
   "cell_type": "code",
   "execution_count": 32,
   "metadata": {
    "collapsed": false
   },
   "outputs": [
    {
     "data": {
      "text/plain": [
       "0.060606060606060608"
      ]
     },
     "execution_count": 32,
     "metadata": {},
     "output_type": "execute_result"
    }
   ],
   "source": [
    "accuracy_score(y_test, rf.predict(X_test))"
   ]
  },
  {
   "cell_type": "code",
   "execution_count": 33,
   "metadata": {
    "collapsed": true
   },
   "outputs": [],
   "source": [
    "sarcasm = pd.read_csv('../Data/sarcasm_v2.csv')"
   ]
  },
  {
   "cell_type": "code",
   "execution_count": 34,
   "metadata": {
    "collapsed": false
   },
   "outputs": [
    {
     "data": {
      "text/html": [
       "<div>\n",
       "<table border=\"1\" class=\"dataframe\">\n",
       "  <thead>\n",
       "    <tr style=\"text-align: right;\">\n",
       "      <th></th>\n",
       "      <th>Corpus</th>\n",
       "      <th>Label</th>\n",
       "      <th>ID</th>\n",
       "      <th>Quote Text</th>\n",
       "      <th>Response Text</th>\n",
       "    </tr>\n",
       "  </thead>\n",
       "  <tbody>\n",
       "    <tr>\n",
       "      <th>0</th>\n",
       "      <td>GEN</td>\n",
       "      <td>sarc</td>\n",
       "      <td>GEN_sarc_0000</td>\n",
       "      <td>First off, That's grade A USDA approved Liberalism in a nutshell.</td>\n",
       "      <td>Therefore you accept that the Republican party almost as a whole is \"grade A USDA approved Liberalism.\" About time you did.</td>\n",
       "    </tr>\n",
       "    <tr>\n",
       "      <th>1</th>\n",
       "      <td>GEN</td>\n",
       "      <td>sarc</td>\n",
       "      <td>GEN_sarc_0001</td>\n",
       "      <td>watch it. Now you're using my lines. Poet has always been an easy target, I will agree. ;)</td>\n",
       "      <td>More chattering from the peanut gallery? Haven't gotten the memo, you're no longer a player? Honestly....clamoring for attention is so low budget. No shame.</td>\n",
       "    </tr>\n",
       "    <tr>\n",
       "      <th>2</th>\n",
       "      <td>GEN</td>\n",
       "      <td>sarc</td>\n",
       "      <td>GEN_sarc_0002</td>\n",
       "      <td>Because it will encourage teens to engage in riskier behavior. Abstinence until marriage is still the best way.</td>\n",
       "      <td>Yep, suppressing natural behavior is always the way to go. We should also get them to stop pooping.</td>\n",
       "    </tr>\n",
       "    <tr>\n",
       "      <th>3</th>\n",
       "      <td>GEN</td>\n",
       "      <td>sarc</td>\n",
       "      <td>GEN_sarc_0003</td>\n",
       "      <td>Obviously you missed the point. So sorry the the irony was beyond you.</td>\n",
       "      <td>I guess we all missed your point Justine, whatever it might have been. emoticonXConfused Better luck next time. emoticonXGood</td>\n",
       "    </tr>\n",
       "    <tr>\n",
       "      <th>4</th>\n",
       "      <td>GEN</td>\n",
       "      <td>sarc</td>\n",
       "      <td>GEN_sarc_0004</td>\n",
       "      <td>This is pure paranoia. What evidence do you have to support you're point of view? Why don't you actually do a little research yourself. Handgun Control Inc was founded by two victims of gun-violence. Sarah Brady joined Handgun Control Inc after her husband received brain damage from a bullet. Senator Ted Kennedy also supports gun-control because some of his family members were killed with guns. Many people who support gun control have experienced the horrors of gun violence firsthand and are just trying to make our nation a safer place. It's not because they are power hungry.</td>\n",
       "      <td>Evidence, I dont need no sticking evidence. This is what I beleive, and thats it, but I will dig up some proof that supports my point.</td>\n",
       "    </tr>\n",
       "  </tbody>\n",
       "</table>\n",
       "</div>"
      ],
      "text/plain": [
       "  Corpus Label             ID  \\\n",
       "0  GEN    sarc  GEN_sarc_0000   \n",
       "1  GEN    sarc  GEN_sarc_0001   \n",
       "2  GEN    sarc  GEN_sarc_0002   \n",
       "3  GEN    sarc  GEN_sarc_0003   \n",
       "4  GEN    sarc  GEN_sarc_0004   \n",
       "\n",
       "                                                                                                                                                                                                                                                                                                                                                                                                                                                                                                                                                                                               Quote Text  \\\n",
       "0  First off, That's grade A USDA approved Liberalism in a nutshell.                                                                                                                                                                                                                                                                                                                                                                                                                                                                                                                                        \n",
       "1  watch it. Now you're using my lines. Poet has always been an easy target, I will agree. ;)                                                                                                                                                                                                                                                                                                                                                                                                                                                                                                               \n",
       "2  Because it will encourage teens to engage in riskier behavior. Abstinence until marriage is still the best way.                                                                                                                                                                                                                                                                                                                                                                                                                                                                                          \n",
       "3  Obviously you missed the point. So sorry the the irony was beyond you.                                                                                                                                                                                                                                                                                                                                                                                                                                                                                                                                   \n",
       "4  This is pure paranoia. What evidence do you have to support you're point of view? Why don't you actually do a little research yourself. Handgun Control Inc was founded by two victims of gun-violence. Sarah Brady joined Handgun Control Inc after her husband received brain damage from a bullet. Senator Ted Kennedy also supports gun-control because some of his family members were killed with guns. Many people who support gun control have experienced the horrors of gun violence firsthand and are just trying to make our nation a safer place. It's not because they are power hungry.   \n",
       "\n",
       "                                                                                                                                                  Response Text  \n",
       "0  Therefore you accept that the Republican party almost as a whole is \"grade A USDA approved Liberalism.\" About time you did.                                   \n",
       "1  More chattering from the peanut gallery? Haven't gotten the memo, you're no longer a player? Honestly....clamoring for attention is so low budget. No shame.  \n",
       "2  Yep, suppressing natural behavior is always the way to go. We should also get them to stop pooping.                                                           \n",
       "3  I guess we all missed your point Justine, whatever it might have been. emoticonXConfused Better luck next time. emoticonXGood                                 \n",
       "4  Evidence, I dont need no sticking evidence. This is what I beleive, and thats it, but I will dig up some proof that supports my point.                        "
      ]
     },
     "execution_count": 34,
     "metadata": {},
     "output_type": "execute_result"
    }
   ],
   "source": [
    "sarcasm.head()"
   ]
  },
  {
   "cell_type": "code",
   "execution_count": 35,
   "metadata": {
    "collapsed": false
   },
   "outputs": [
    {
     "data": {
      "text/plain": [
       "sarc       2346\n",
       "notsarc    2346\n",
       "Name: Label, dtype: int64"
      ]
     },
     "execution_count": 35,
     "metadata": {},
     "output_type": "execute_result"
    }
   ],
   "source": [
    "sarcasm.Label.value_counts()"
   ]
  },
  {
   "cell_type": "code",
   "execution_count": 36,
   "metadata": {
    "collapsed": true
   },
   "outputs": [],
   "source": [
    "sarcasm['Label'] = sarcasm['Label'].map({'notsarc' : 0, 'sarc' : 1})"
   ]
  },
  {
   "cell_type": "code",
   "execution_count": 37,
   "metadata": {
    "collapsed": false
   },
   "outputs": [],
   "source": [
    "p_c = []\n",
    "n_c = []\n",
    "for i in range(0, sarcasm.shape[0]):\n",
    "    pos_count = 0\n",
    "    neg_count = 0\n",
    "    for w in word_tokenize(sarcasm.iloc[i]['Quote Text']):\n",
    "        if w not in sw:\n",
    "            try:\n",
    "                sent = list(swn.senti_synsets(w))[0]\n",
    "                pc = sent.pos_score()\n",
    "                nc = sent.neg_score()\n",
    "                if (pc > nc):\n",
    "                    pos_count += 1\n",
    "                elif(pc < nc):\n",
    "                    neg_count += 1\n",
    "            except:\n",
    "                pass\n",
    "    p_c.append(pos_count)\n",
    "    n_c.append(neg_count)"
   ]
  },
  {
   "cell_type": "code",
   "execution_count": 38,
   "metadata": {
    "collapsed": false
   },
   "outputs": [],
   "source": [
    "pos_polarity = []\n",
    "neg_polarity = []\n",
    "for i in range(0, sarcasm.shape[0]):\n",
    "    pos_score = 0\n",
    "    neg_score = 0\n",
    "    for w in word_tokenize(sarcasm.iloc[i]['Quote Text']):\n",
    "        if w not in sw:\n",
    "            try:\n",
    "                sent = list(swn.senti_synsets(w))[0]\n",
    "                pc = sent.pos_score()\n",
    "                nc = sent.neg_score()\n",
    "                if (pc > nc):\n",
    "                    pos_score += pc\n",
    "                elif (pc < nc):\n",
    "                    neg_score += nc\n",
    "            except:\n",
    "                pass\n",
    "    pos_polarity.append(pos_score)\n",
    "    neg_polarity.append(neg_score)"
   ]
  },
  {
   "cell_type": "code",
   "execution_count": 39,
   "metadata": {
    "collapsed": false
   },
   "outputs": [],
   "source": [
    "sarcasm['n_count'] = n_c\n",
    "sarcasm['p_count'] = p_c"
   ]
  },
  {
   "cell_type": "code",
   "execution_count": 40,
   "metadata": {
    "collapsed": false
   },
   "outputs": [],
   "source": [
    "sarcasm['n_pol'] = neg_polarity\n",
    "sarcasm['p_pol'] = pos_polarity"
   ]
  },
  {
   "cell_type": "code",
   "execution_count": 41,
   "metadata": {
    "collapsed": false
   },
   "outputs": [],
   "source": [
    "sarcasm.loc[sarcasm.n_pol > sarcasm.p_pol, 'pol'] = 0\n",
    "sarcasm.loc[sarcasm.n_pol < sarcasm.p_pol, 'pol'] = 1\n",
    "sarcasm.loc[sarcasm.n_pol == sarcasm.p_pol, 'pol'] = 2"
   ]
  },
  {
   "cell_type": "code",
   "execution_count": 42,
   "metadata": {
    "collapsed": false,
    "scrolled": false
   },
   "outputs": [
    {
     "data": {
      "text/html": [
       "<div>\n",
       "<table border=\"1\" class=\"dataframe\">\n",
       "  <thead>\n",
       "    <tr style=\"text-align: right;\">\n",
       "      <th></th>\n",
       "      <th>Corpus</th>\n",
       "      <th>Label</th>\n",
       "      <th>ID</th>\n",
       "      <th>Quote Text</th>\n",
       "      <th>Response Text</th>\n",
       "      <th>n_count</th>\n",
       "      <th>p_count</th>\n",
       "      <th>n_pol</th>\n",
       "      <th>p_pol</th>\n",
       "      <th>pol</th>\n",
       "    </tr>\n",
       "  </thead>\n",
       "  <tbody>\n",
       "    <tr>\n",
       "      <th>0</th>\n",
       "      <td>GEN</td>\n",
       "      <td>1</td>\n",
       "      <td>GEN_sarc_0000</td>\n",
       "      <td>First off, That's grade A USDA approved Liberalism in a nutshell.</td>\n",
       "      <td>Therefore you accept that the Republican party almost as a whole is \"grade A USDA approved Liberalism.\" About time you did.</td>\n",
       "      <td>0</td>\n",
       "      <td>0</td>\n",
       "      <td>0.000</td>\n",
       "      <td>0.000</td>\n",
       "      <td>2.0</td>\n",
       "    </tr>\n",
       "    <tr>\n",
       "      <th>1</th>\n",
       "      <td>GEN</td>\n",
       "      <td>1</td>\n",
       "      <td>GEN_sarc_0001</td>\n",
       "      <td>watch it. Now you're using my lines. Poet has always been an easy target, I will agree. ;)</td>\n",
       "      <td>More chattering from the peanut gallery? Haven't gotten the memo, you're no longer a player? Honestly....clamoring for attention is so low budget. No shame.</td>\n",
       "      <td>0</td>\n",
       "      <td>2</td>\n",
       "      <td>0.000</td>\n",
       "      <td>1.125</td>\n",
       "      <td>1.0</td>\n",
       "    </tr>\n",
       "    <tr>\n",
       "      <th>2</th>\n",
       "      <td>GEN</td>\n",
       "      <td>1</td>\n",
       "      <td>GEN_sarc_0002</td>\n",
       "      <td>Because it will encourage teens to engage in riskier behavior. Abstinence until marriage is still the best way.</td>\n",
       "      <td>Yep, suppressing natural behavior is always the way to go. We should also get them to stop pooping.</td>\n",
       "      <td>0</td>\n",
       "      <td>5</td>\n",
       "      <td>0.000</td>\n",
       "      <td>1.125</td>\n",
       "      <td>1.0</td>\n",
       "    </tr>\n",
       "    <tr>\n",
       "      <th>3</th>\n",
       "      <td>GEN</td>\n",
       "      <td>1</td>\n",
       "      <td>GEN_sarc_0003</td>\n",
       "      <td>Obviously you missed the point. So sorry the the irony was beyond you.</td>\n",
       "      <td>I guess we all missed your point Justine, whatever it might have been. emoticonXConfused Better luck next time. emoticonXGood</td>\n",
       "      <td>2</td>\n",
       "      <td>1</td>\n",
       "      <td>0.875</td>\n",
       "      <td>0.500</td>\n",
       "      <td>0.0</td>\n",
       "    </tr>\n",
       "    <tr>\n",
       "      <th>4</th>\n",
       "      <td>GEN</td>\n",
       "      <td>1</td>\n",
       "      <td>GEN_sarc_0004</td>\n",
       "      <td>This is pure paranoia. What evidence do you have to support you're point of view? Why don't you actually do a little research yourself. Handgun Control Inc was founded by two victims of gun-violence. Sarah Brady joined Handgun Control Inc after her husband received brain damage from a bullet. Senator Ted Kennedy also supports gun-control because some of his family members were killed with guns. Many people who support gun control have experienced the horrors of gun violence firsthand and are just trying to make our nation a safer place. It's not because they are power hungry.</td>\n",
       "      <td>Evidence, I dont need no sticking evidence. This is what I beleive, and thats it, but I will dig up some proof that supports my point.</td>\n",
       "      <td>5</td>\n",
       "      <td>4</td>\n",
       "      <td>2.125</td>\n",
       "      <td>1.625</td>\n",
       "      <td>0.0</td>\n",
       "    </tr>\n",
       "  </tbody>\n",
       "</table>\n",
       "</div>"
      ],
      "text/plain": [
       "  Corpus  Label             ID  \\\n",
       "0  GEN    1      GEN_sarc_0000   \n",
       "1  GEN    1      GEN_sarc_0001   \n",
       "2  GEN    1      GEN_sarc_0002   \n",
       "3  GEN    1      GEN_sarc_0003   \n",
       "4  GEN    1      GEN_sarc_0004   \n",
       "\n",
       "                                                                                                                                                                                                                                                                                                                                                                                                                                                                                                                                                                                               Quote Text  \\\n",
       "0  First off, That's grade A USDA approved Liberalism in a nutshell.                                                                                                                                                                                                                                                                                                                                                                                                                                                                                                                                        \n",
       "1  watch it. Now you're using my lines. Poet has always been an easy target, I will agree. ;)                                                                                                                                                                                                                                                                                                                                                                                                                                                                                                               \n",
       "2  Because it will encourage teens to engage in riskier behavior. Abstinence until marriage is still the best way.                                                                                                                                                                                                                                                                                                                                                                                                                                                                                          \n",
       "3  Obviously you missed the point. So sorry the the irony was beyond you.                                                                                                                                                                                                                                                                                                                                                                                                                                                                                                                                   \n",
       "4  This is pure paranoia. What evidence do you have to support you're point of view? Why don't you actually do a little research yourself. Handgun Control Inc was founded by two victims of gun-violence. Sarah Brady joined Handgun Control Inc after her husband received brain damage from a bullet. Senator Ted Kennedy also supports gun-control because some of his family members were killed with guns. Many people who support gun control have experienced the horrors of gun violence firsthand and are just trying to make our nation a safer place. It's not because they are power hungry.   \n",
       "\n",
       "                                                                                                                                                  Response Text  \\\n",
       "0  Therefore you accept that the Republican party almost as a whole is \"grade A USDA approved Liberalism.\" About time you did.                                    \n",
       "1  More chattering from the peanut gallery? Haven't gotten the memo, you're no longer a player? Honestly....clamoring for attention is so low budget. No shame.   \n",
       "2  Yep, suppressing natural behavior is always the way to go. We should also get them to stop pooping.                                                            \n",
       "3  I guess we all missed your point Justine, whatever it might have been. emoticonXConfused Better luck next time. emoticonXGood                                  \n",
       "4  Evidence, I dont need no sticking evidence. This is what I beleive, and thats it, but I will dig up some proof that supports my point.                         \n",
       "\n",
       "   n_count  p_count  n_pol  p_pol  pol  \n",
       "0  0        0        0.000  0.000  2.0  \n",
       "1  0        2        0.000  1.125  1.0  \n",
       "2  0        5        0.000  1.125  1.0  \n",
       "3  2        1        0.875  0.500  0.0  \n",
       "4  5        4        2.125  1.625  0.0  "
      ]
     },
     "execution_count": 42,
     "metadata": {},
     "output_type": "execute_result"
    }
   ],
   "source": [
    "sarcasm.head()"
   ]
  },
  {
   "cell_type": "code",
   "execution_count": 43,
   "metadata": {
    "collapsed": false
   },
   "outputs": [],
   "source": [
    "X = sarcasm.ix[:, ['n_count', 'p_count', 'pol']]\n",
    "y = sarcasm['Label']"
   ]
  },
  {
   "cell_type": "code",
   "execution_count": 44,
   "metadata": {
    "collapsed": true
   },
   "outputs": [],
   "source": [
    "X_train, X_test, y_train, y_test = train_test_split(X, y, test_size=0.3, random_state=1)"
   ]
  },
  {
   "cell_type": "code",
   "execution_count": 45,
   "metadata": {
    "collapsed": false
   },
   "outputs": [
    {
     "data": {
      "text/plain": [
       "SVC(C=1.0, cache_size=200, class_weight=None, coef0=0.0,\n",
       "  decision_function_shape=None, degree=3, gamma='auto', kernel='rbf',\n",
       "  max_iter=-1, probability=True, random_state=None, shrinking=True,\n",
       "  tol=0.001, verbose=False)"
      ]
     },
     "execution_count": 45,
     "metadata": {},
     "output_type": "execute_result"
    }
   ],
   "source": [
    "svm.fit(X_train, y_train)"
   ]
  },
  {
   "cell_type": "code",
   "execution_count": 46,
   "metadata": {
    "collapsed": false
   },
   "outputs": [
    {
     "data": {
      "text/plain": [
       "0.50994318181818177"
      ]
     },
     "execution_count": 46,
     "metadata": {},
     "output_type": "execute_result"
    }
   ],
   "source": [
    "accuracy_score(y_test, svm.predict(X_test))"
   ]
  },
  {
   "cell_type": "code",
   "execution_count": 47,
   "metadata": {
    "collapsed": false
   },
   "outputs": [
    {
     "data": {
      "text/plain": [
       "RandomForestClassifier(bootstrap=True, class_weight=None, criterion='entropy',\n",
       "            max_depth=None, max_features='auto', max_leaf_nodes=None,\n",
       "            min_impurity_split=1e-07, min_samples_leaf=1,\n",
       "            min_samples_split=2, min_weight_fraction_leaf=0.0,\n",
       "            n_estimators=200, n_jobs=1, oob_score=False, random_state=None,\n",
       "            verbose=0, warm_start=False)"
      ]
     },
     "execution_count": 47,
     "metadata": {},
     "output_type": "execute_result"
    }
   ],
   "source": [
    "rf.fit(X_train, y_train)"
   ]
  },
  {
   "cell_type": "code",
   "execution_count": 48,
   "metadata": {
    "collapsed": false
   },
   "outputs": [
    {
     "data": {
      "text/plain": [
       "0.52059659090909094"
      ]
     },
     "execution_count": 48,
     "metadata": {},
     "output_type": "execute_result"
    }
   ],
   "source": [
    "accuracy_score(y_test, rf.predict(X_test))"
   ]
  },
  {
   "cell_type": "code",
   "execution_count": 49,
   "metadata": {
    "collapsed": false
   },
   "outputs": [
    {
     "data": {
      "text/plain": [
       "0.52498240675580576"
      ]
     },
     "execution_count": 49,
     "metadata": {},
     "output_type": "execute_result"
    }
   ],
   "source": [
    "f1_score(y_test, rf.predict(X_test))"
   ]
  },
  {
   "cell_type": "code",
   "execution_count": 50,
   "metadata": {
    "collapsed": false
   },
   "outputs": [],
   "source": [
    "s = \"watch it. Now you're using my lines. Poet has always :P been an easy target, I will agree. ;)\"\n",
    "reg = r'(?::|;|=|x)(?:-)?(?:\\)|\\(|D|P)'"
   ]
  },
  {
   "cell_type": "code",
   "execution_count": 51,
   "metadata": {
    "collapsed": false
   },
   "outputs": [
    {
     "data": {
      "text/plain": [
       "[':P', ';)']"
      ]
     },
     "execution_count": 51,
     "metadata": {},
     "output_type": "execute_result"
    }
   ],
   "source": [
    "re.findall(reg, s)"
   ]
  },
  {
   "cell_type": "code",
   "execution_count": 52,
   "metadata": {
    "collapsed": false
   },
   "outputs": [],
   "source": [
    "emo_c = []\n",
    "for i in range(0, sarcasm.shape[0]):\n",
    "    x = re.findall(r'(?::|;|=|x)(?:-)?(?:\\)|\\(|D|P)', sarcasm.ix[i, 'Quote Text'])\n",
    "                \n",
    "    emo_c.append(len(x))"
   ]
  },
  {
   "cell_type": "code",
   "execution_count": 53,
   "metadata": {
    "collapsed": false
   },
   "outputs": [
    {
     "data": {
      "text/plain": [
       "[0, 1, 0, 0, 0]"
      ]
     },
     "execution_count": 53,
     "metadata": {},
     "output_type": "execute_result"
    }
   ],
   "source": [
    "emo_c[0 :5]"
   ]
  },
  {
   "cell_type": "code",
   "execution_count": 54,
   "metadata": {
    "collapsed": true
   },
   "outputs": [],
   "source": [
    "sarcasm['emo_count'] = emo_c"
   ]
  },
  {
   "cell_type": "code",
   "execution_count": 55,
   "metadata": {
    "collapsed": false
   },
   "outputs": [
    {
     "data": {
      "text/html": [
       "<div>\n",
       "<table border=\"1\" class=\"dataframe\">\n",
       "  <thead>\n",
       "    <tr style=\"text-align: right;\">\n",
       "      <th></th>\n",
       "      <th>Corpus</th>\n",
       "      <th>Label</th>\n",
       "      <th>ID</th>\n",
       "      <th>Quote Text</th>\n",
       "      <th>Response Text</th>\n",
       "      <th>n_count</th>\n",
       "      <th>p_count</th>\n",
       "      <th>n_pol</th>\n",
       "      <th>p_pol</th>\n",
       "      <th>pol</th>\n",
       "      <th>emo_count</th>\n",
       "    </tr>\n",
       "  </thead>\n",
       "  <tbody>\n",
       "    <tr>\n",
       "      <th>1</th>\n",
       "      <td>GEN</td>\n",
       "      <td>1</td>\n",
       "      <td>GEN_sarc_0001</td>\n",
       "      <td>watch it. Now you're using my lines. Poet has always been an easy target, I will agree. ;)</td>\n",
       "      <td>More chattering from the peanut gallery? Haven't gotten the memo, you're no longer a player? Honestly....clamoring for attention is so low budget. No shame.</td>\n",
       "      <td>0</td>\n",
       "      <td>2</td>\n",
       "      <td>0.000</td>\n",
       "      <td>1.125</td>\n",
       "      <td>1.0</td>\n",
       "      <td>1</td>\n",
       "    </tr>\n",
       "    <tr>\n",
       "      <th>102</th>\n",
       "      <td>GEN</td>\n",
       "      <td>1</td>\n",
       "      <td>GEN_sarc_0102</td>\n",
       "      <td>Apparently you've got one powerful set of rose colored glassed. I guess you spend a lot of money on those 1-900 psychics too. :(Nowhere is it scientifically inaccurate? Are you serious?Waxy</td>\n",
       "      <td>Yup. Give me an example of a true inaccuracy, instead of working to poke fun. Do you honestly think anyone will take you seriously (except the evolutionists) if you don't provide reasons for your apparent problem with scriptures. Are you scared because you see the \"ancients\" commenting on subjects you thought science had \"discovered\" since the \"enlightenment\"? Man, how arrogant can you get? You remind me of the Pharasees. Arrogant presuppositions are no substitue for confronting your ignorance my friend. Either explain how the Bible speaks accurately on sophisticated subjects as given above, or don't bother posting.</td>\n",
       "      <td>4</td>\n",
       "      <td>6</td>\n",
       "      <td>1.250</td>\n",
       "      <td>1.250</td>\n",
       "      <td>2.0</td>\n",
       "      <td>1</td>\n",
       "    </tr>\n",
       "    <tr>\n",
       "      <th>262</th>\n",
       "      <td>GEN</td>\n",
       "      <td>1</td>\n",
       "      <td>GEN_sarc_0262</td>\n",
       "      <td>Then why do Christians insist that there's a heaven? What is heaven if not what you've just described?And for Christians who believe in a paradisaic Earth, you've just described their Paradise. :)</td>\n",
       "      <td>lol Seriously boring is right. Just think, no Larry Craig scandals.</td>\n",
       "      <td>1</td>\n",
       "      <td>3</td>\n",
       "      <td>0.250</td>\n",
       "      <td>0.750</td>\n",
       "      <td>1.0</td>\n",
       "      <td>1</td>\n",
       "    </tr>\n",
       "    <tr>\n",
       "      <th>289</th>\n",
       "      <td>GEN</td>\n",
       "      <td>1</td>\n",
       "      <td>GEN_sarc_0289</td>\n",
       "      <td>ha to be more *fair* and equal we should find a way to implant that cell in the mans **** and if he still decides he doesn't want it then the abortionist shall go into that man **** through his **** and surgically remove it,any possible further health reprocutions like,bleeding to death,infection and or inability to further concieve will be on his head:) why should the guy get off so easy for his *choice* i thought this was about equality?</td>\n",
       "      <td>Dear Jill:  P.S. Remember, I gave you the morning after pill? Use it! Or hey make a few thousand dollars and donate it to research (cha-ching)!!  P.S.S. Thanks for the herpes! emoticonXGood And you think you have a medical problem, all you have to do is take a pill and you're done with the situation I gave you, but what about the situation you have now given me???   What's that (new) quote: All is fair in Love, sex and war? emoticonXKill   Jack</td>\n",
       "      <td>3</td>\n",
       "      <td>5</td>\n",
       "      <td>1.000</td>\n",
       "      <td>2.125</td>\n",
       "      <td>1.0</td>\n",
       "      <td>1</td>\n",
       "    </tr>\n",
       "    <tr>\n",
       "      <th>290</th>\n",
       "      <td>GEN</td>\n",
       "      <td>1</td>\n",
       "      <td>GEN_sarc_0290</td>\n",
       "      <td>Well, that third exclamation point really convinced me :-)BTW, the Bush administration dumped Federal Emergency Management Director Michael Brown as commander of hurricane Katrina relief operations on Friday.</td>\n",
       "      <td>Kudos to Dubya! I thought that Brown was, well I don't know, INCOMPETENT!</td>\n",
       "      <td>3</td>\n",
       "      <td>4</td>\n",
       "      <td>1.125</td>\n",
       "      <td>1.250</td>\n",
       "      <td>1.0</td>\n",
       "      <td>1</td>\n",
       "    </tr>\n",
       "  </tbody>\n",
       "</table>\n",
       "</div>"
      ],
      "text/plain": [
       "    Corpus  Label             ID  \\\n",
       "1    GEN    1      GEN_sarc_0001   \n",
       "102  GEN    1      GEN_sarc_0102   \n",
       "262  GEN    1      GEN_sarc_0262   \n",
       "289  GEN    1      GEN_sarc_0289   \n",
       "290  GEN    1      GEN_sarc_0290   \n",
       "\n",
       "                                                                                                                                                                                                                                                                                                                                                                                                                                                      Quote Text  \\\n",
       "1    watch it. Now you're using my lines. Poet has always been an easy target, I will agree. ;)                                                                                                                                                                                                                                                                                                                                                                    \n",
       "102  Apparently you've got one powerful set of rose colored glassed. I guess you spend a lot of money on those 1-900 psychics too. :(Nowhere is it scientifically inaccurate? Are you serious?Waxy                                                                                                                                                                                                                                                                 \n",
       "262  Then why do Christians insist that there's a heaven? What is heaven if not what you've just described?And for Christians who believe in a paradisaic Earth, you've just described their Paradise. :)                                                                                                                                                                                                                                                          \n",
       "289  ha to be more *fair* and equal we should find a way to implant that cell in the mans **** and if he still decides he doesn't want it then the abortionist shall go into that man **** through his **** and surgically remove it,any possible further health reprocutions like,bleeding to death,infection and or inability to further concieve will be on his head:) why should the guy get off so easy for his *choice* i thought this was about equality?   \n",
       "290  Well, that third exclamation point really convinced me :-)BTW, the Bush administration dumped Federal Emergency Management Director Michael Brown as commander of hurricane Katrina relief operations on Friday.                                                                                                                                                                                                                                              \n",
       "\n",
       "                                                                                                                                                                                                                                                                                                                                                                                                                                                                                                                                                                                                                                       Response Text  \\\n",
       "1    More chattering from the peanut gallery? Haven't gotten the memo, you're no longer a player? Honestly....clamoring for attention is so low budget. No shame.                                                                                                                                                                                                                                                                                                                                                                                                                                                                                      \n",
       "102  Yup. Give me an example of a true inaccuracy, instead of working to poke fun. Do you honestly think anyone will take you seriously (except the evolutionists) if you don't provide reasons for your apparent problem with scriptures. Are you scared because you see the \"ancients\" commenting on subjects you thought science had \"discovered\" since the \"enlightenment\"? Man, how arrogant can you get? You remind me of the Pharasees. Arrogant presuppositions are no substitue for confronting your ignorance my friend. Either explain how the Bible speaks accurately on sophisticated subjects as given above, or don't bother posting.   \n",
       "262  lol Seriously boring is right. Just think, no Larry Craig scandals.                                                                                                                                                                                                                                                                                                                                                                                                                                                                                                                                                                               \n",
       "289  Dear Jill:  P.S. Remember, I gave you the morning after pill? Use it! Or hey make a few thousand dollars and donate it to research (cha-ching)!!  P.S.S. Thanks for the herpes! emoticonXGood And you think you have a medical problem, all you have to do is take a pill and you're done with the situation I gave you, but what about the situation you have now given me???   What's that (new) quote: All is fair in Love, sex and war? emoticonXKill   Jack                                                                                                                                                                                  \n",
       "290  Kudos to Dubya! I thought that Brown was, well I don't know, INCOMPETENT!                                                                                                                                                                                                                                                                                                                                                                                                                                                                                                                                                                         \n",
       "\n",
       "     n_count  p_count  n_pol  p_pol  pol  emo_count  \n",
       "1    0        2        0.000  1.125  1.0  1          \n",
       "102  4        6        1.250  1.250  2.0  1          \n",
       "262  1        3        0.250  0.750  1.0  1          \n",
       "289  3        5        1.000  2.125  1.0  1          \n",
       "290  3        4        1.125  1.250  1.0  1          "
      ]
     },
     "execution_count": 55,
     "metadata": {},
     "output_type": "execute_result"
    }
   ],
   "source": [
    "sarcasm[sarcasm.emo_count > 0].head()"
   ]
  },
  {
   "cell_type": "code",
   "execution_count": 56,
   "metadata": {
    "collapsed": false
   },
   "outputs": [],
   "source": [
    "X = sarcasm.ix[:, ['n_count', 'p_count', 'pol', 'emo_count']]\n",
    "y = sarcasm['Label']"
   ]
  },
  {
   "cell_type": "code",
   "execution_count": 57,
   "metadata": {
    "collapsed": true
   },
   "outputs": [],
   "source": [
    "X_train, X_test, y_train, y_test = train_test_split(X, y, test_size=0.3, random_state=1)"
   ]
  },
  {
   "cell_type": "code",
   "execution_count": 58,
   "metadata": {
    "collapsed": false
   },
   "outputs": [
    {
     "data": {
      "text/plain": [
       "RandomForestClassifier(bootstrap=True, class_weight=None, criterion='entropy',\n",
       "            max_depth=None, max_features='auto', max_leaf_nodes=None,\n",
       "            min_impurity_split=1e-07, min_samples_leaf=1,\n",
       "            min_samples_split=2, min_weight_fraction_leaf=0.0,\n",
       "            n_estimators=200, n_jobs=1, oob_score=False, random_state=None,\n",
       "            verbose=0, warm_start=False)"
      ]
     },
     "execution_count": 58,
     "metadata": {},
     "output_type": "execute_result"
    }
   ],
   "source": [
    "rf.fit(X_train, y_train)"
   ]
  },
  {
   "cell_type": "code",
   "execution_count": 59,
   "metadata": {
    "collapsed": false
   },
   "outputs": [
    {
     "data": {
      "text/plain": [
       "0.515625"
      ]
     },
     "execution_count": 59,
     "metadata": {},
     "output_type": "execute_result"
    }
   ],
   "source": [
    "accuracy_score(y_test, rf.predict(X_test))"
   ]
  },
  {
   "cell_type": "code",
   "execution_count": 60,
   "metadata": {
    "collapsed": false
   },
   "outputs": [
    {
     "data": {
      "text/plain": [
       "0.52704576976421635"
      ]
     },
     "execution_count": 60,
     "metadata": {},
     "output_type": "execute_result"
    }
   ],
   "source": [
    "f1_score(y_test, rf.predict(X_test))"
   ]
  },
  {
   "cell_type": "code",
   "execution_count": 61,
   "metadata": {
    "collapsed": false
   },
   "outputs": [
    {
     "data": {
      "text/plain": [
       "0.51983584131326954"
      ]
     },
     "execution_count": 61,
     "metadata": {},
     "output_type": "execute_result"
    }
   ],
   "source": [
    "precision_score(y_test, rf.predict(X_test))"
   ]
  },
  {
   "cell_type": "code",
   "execution_count": 62,
   "metadata": {
    "collapsed": false
   },
   "outputs": [
    {
     "data": {
      "text/plain": [
       "0.5344585091420534"
      ]
     },
     "execution_count": 62,
     "metadata": {},
     "output_type": "execute_result"
    }
   ],
   "source": [
    "recall_score(y_test, rf.predict(X_test))"
   ]
  },
  {
   "cell_type": "code",
   "execution_count": 63,
   "metadata": {
    "collapsed": false
   },
   "outputs": [],
   "source": [
    "sarcasm['predicted'] = rf.predict(X)"
   ]
  },
  {
   "cell_type": "code",
   "execution_count": 64,
   "metadata": {
    "collapsed": false,
    "scrolled": false
   },
   "outputs": [
    {
     "data": {
      "text/html": [
       "<div>\n",
       "<table border=\"1\" class=\"dataframe\">\n",
       "  <thead>\n",
       "    <tr style=\"text-align: right;\">\n",
       "      <th></th>\n",
       "      <th>Corpus</th>\n",
       "      <th>Label</th>\n",
       "      <th>ID</th>\n",
       "      <th>Quote Text</th>\n",
       "      <th>Response Text</th>\n",
       "      <th>n_count</th>\n",
       "      <th>p_count</th>\n",
       "      <th>n_pol</th>\n",
       "      <th>p_pol</th>\n",
       "      <th>pol</th>\n",
       "      <th>emo_count</th>\n",
       "      <th>predicted</th>\n",
       "    </tr>\n",
       "  </thead>\n",
       "  <tbody>\n",
       "    <tr>\n",
       "      <th>0</th>\n",
       "      <td>GEN</td>\n",
       "      <td>1</td>\n",
       "      <td>GEN_sarc_0000</td>\n",
       "      <td>First off, That's grade A USDA approved Liberalism in a nutshell.</td>\n",
       "      <td>Therefore you accept that the Republican party almost as a whole is \"grade A USDA approved Liberalism.\" About time you did.</td>\n",
       "      <td>0</td>\n",
       "      <td>0</td>\n",
       "      <td>0.000</td>\n",
       "      <td>0.000</td>\n",
       "      <td>2.0</td>\n",
       "      <td>0</td>\n",
       "      <td>1</td>\n",
       "    </tr>\n",
       "    <tr>\n",
       "      <th>3</th>\n",
       "      <td>GEN</td>\n",
       "      <td>1</td>\n",
       "      <td>GEN_sarc_0003</td>\n",
       "      <td>Obviously you missed the point. So sorry the the irony was beyond you.</td>\n",
       "      <td>I guess we all missed your point Justine, whatever it might have been. emoticonXConfused Better luck next time. emoticonXGood</td>\n",
       "      <td>2</td>\n",
       "      <td>1</td>\n",
       "      <td>0.875</td>\n",
       "      <td>0.500</td>\n",
       "      <td>0.0</td>\n",
       "      <td>0</td>\n",
       "      <td>1</td>\n",
       "    </tr>\n",
       "    <tr>\n",
       "      <th>6</th>\n",
       "      <td>GEN</td>\n",
       "      <td>1</td>\n",
       "      <td>GEN_sarc_0006</td>\n",
       "      <td>Jake, while I don't agree with JP that this should be an issue of blame, with all due respect, your point here is a bit disingenuous--smallpox isn't easily spread by engaging in a given behavior as HIV is--HIV is a sexually transmitted disease.</td>\n",
       "      <td>What is it that you disagree with? My statement of fact? Or the fact that I made a politically incorrect assertion? emoticonXConfused</td>\n",
       "      <td>4</td>\n",
       "      <td>7</td>\n",
       "      <td>1.625</td>\n",
       "      <td>2.125</td>\n",
       "      <td>1.0</td>\n",
       "      <td>0</td>\n",
       "      <td>1</td>\n",
       "    </tr>\n",
       "    <tr>\n",
       "      <th>8</th>\n",
       "      <td>GEN</td>\n",
       "      <td>1</td>\n",
       "      <td>GEN_sarc_0008</td>\n",
       "      <td>And what exactly is a \"God-fearing athiest\" anyway?</td>\n",
       "      <td>In my case, it isn't 'god fearing'.. so much as \"believer fearing'</td>\n",
       "      <td>0</td>\n",
       "      <td>2</td>\n",
       "      <td>0.000</td>\n",
       "      <td>0.625</td>\n",
       "      <td>1.0</td>\n",
       "      <td>0</td>\n",
       "      <td>1</td>\n",
       "    </tr>\n",
       "    <tr>\n",
       "      <th>9</th>\n",
       "      <td>GEN</td>\n",
       "      <td>1</td>\n",
       "      <td>GEN_sarc_0009</td>\n",
       "      <td>You mean what you got was an eye opening shocker into the world of leftist propaganda, and I can see that like a good sheeple you swallowed it hook line and sinker.</td>\n",
       "      <td>yeah just like you and your idols Glenn Beck, Rush Limbaugh, etc.</td>\n",
       "      <td>1</td>\n",
       "      <td>3</td>\n",
       "      <td>0.250</td>\n",
       "      <td>0.750</td>\n",
       "      <td>1.0</td>\n",
       "      <td>0</td>\n",
       "      <td>1</td>\n",
       "    </tr>\n",
       "  </tbody>\n",
       "</table>\n",
       "</div>"
      ],
      "text/plain": [
       "  Corpus  Label             ID  \\\n",
       "0  GEN    1      GEN_sarc_0000   \n",
       "3  GEN    1      GEN_sarc_0003   \n",
       "6  GEN    1      GEN_sarc_0006   \n",
       "8  GEN    1      GEN_sarc_0008   \n",
       "9  GEN    1      GEN_sarc_0009   \n",
       "\n",
       "                                                                                                                                                                                                                                             Quote Text  \\\n",
       "0  First off, That's grade A USDA approved Liberalism in a nutshell.                                                                                                                                                                                      \n",
       "3  Obviously you missed the point. So sorry the the irony was beyond you.                                                                                                                                                                                 \n",
       "6  Jake, while I don't agree with JP that this should be an issue of blame, with all due respect, your point here is a bit disingenuous--smallpox isn't easily spread by engaging in a given behavior as HIV is--HIV is a sexually transmitted disease.   \n",
       "8  And what exactly is a \"God-fearing athiest\" anyway?                                                                                                                                                                                                    \n",
       "9  You mean what you got was an eye opening shocker into the world of leftist propaganda, and I can see that like a good sheeple you swallowed it hook line and sinker.                                                                                   \n",
       "\n",
       "                                                                                                                              Response Text  \\\n",
       "0  Therefore you accept that the Republican party almost as a whole is \"grade A USDA approved Liberalism.\" About time you did.                \n",
       "3  I guess we all missed your point Justine, whatever it might have been. emoticonXConfused Better luck next time. emoticonXGood              \n",
       "6  What is it that you disagree with? My statement of fact? Or the fact that I made a politically incorrect assertion? emoticonXConfused      \n",
       "8  In my case, it isn't 'god fearing'.. so much as \"believer fearing'                                                                         \n",
       "9  yeah just like you and your idols Glenn Beck, Rush Limbaugh, etc.                                                                          \n",
       "\n",
       "   n_count  p_count  n_pol  p_pol  pol  emo_count  predicted  \n",
       "0  0        0        0.000  0.000  2.0  0          1          \n",
       "3  2        1        0.875  0.500  0.0  0          1          \n",
       "6  4        7        1.625  2.125  1.0  0          1          \n",
       "8  0        2        0.000  0.625  1.0  0          1          \n",
       "9  1        3        0.250  0.750  1.0  0          1          "
      ]
     },
     "execution_count": 64,
     "metadata": {},
     "output_type": "execute_result"
    }
   ],
   "source": [
    "sarcasm[sarcasm.predicted == 1].head()"
   ]
  }
 ],
 "metadata": {
  "kernelspec": {
   "display_name": "Python 3",
   "language": "python",
   "name": "python3"
  },
  "language_info": {
   "codemirror_mode": {
    "name": "ipython",
    "version": 3
   },
   "file_extension": ".py",
   "mimetype": "text/x-python",
   "name": "python",
   "nbconvert_exporter": "python",
   "pygments_lexer": "ipython3",
   "version": "3.5.2"
  }
 },
 "nbformat": 4,
 "nbformat_minor": 2
}
