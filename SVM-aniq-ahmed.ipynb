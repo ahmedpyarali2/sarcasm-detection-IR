{
 "cells": [
  {
   "cell_type": "markdown",
   "metadata": {},
   "source": [
    "# Implementing Naive Bayes"
   ]
  },
  {
   "cell_type": "code",
   "execution_count": 229,
   "metadata": {
    "collapsed": true
   },
   "outputs": [],
   "source": [
    "%matplotlib inline\n",
    "import pandas as pd\n",
    "import numpy as np\n",
    "import matplotlib.pyplot as plt\n",
    "import nltk\n",
    "import re\n",
    "import string\n",
    "from nltk.corpus import stopwords\n",
    "from nltk.tokenize import word_tokenize\n",
    "from sklearn.feature_extraction.text import TfidfVectorizer\n",
    "from sklearn.model_selection import train_test_split\n",
    "from sklearn.naive_bayes import MultinomialNB, BernoulliNB\n",
    "from sklearn.metrics import f1_score, accuracy_score, precision_score, recall_score"
   ]
  },
  {
   "cell_type": "code",
   "execution_count": 148,
   "metadata": {
    "collapsed": true
   },
   "outputs": [],
   "source": [
    "plt.style.use('ggplot')"
   ]
  },
  {
   "cell_type": "code",
   "execution_count": 149,
   "metadata": {
    "collapsed": true
   },
   "outputs": [],
   "source": [
    "data = pd.read_csv('../Data/reddit_training.csv')"
   ]
  },
  {
   "cell_type": "code",
   "execution_count": 210,
   "metadata": {
    "collapsed": true
   },
   "outputs": [],
   "source": [
    "data['sarcasm'] = data['sarcasm_tag'].map({'yes' : 1, 'no' : 0})"
   ]
  },
  {
   "cell_type": "code",
   "execution_count": 243,
   "metadata": {
    "collapsed": false
   },
   "outputs": [
    {
     "data": {
      "text/html": [
       "<div>\n",
       "<table border=\"1\" class=\"dataframe\">\n",
       "  <thead>\n",
       "    <tr style=\"text-align: right;\">\n",
       "      <th></th>\n",
       "      <th>index</th>\n",
       "      <th>body</th>\n",
       "      <th>author</th>\n",
       "      <th>created_utc</th>\n",
       "      <th>subreddit_id</th>\n",
       "      <th>link_id</th>\n",
       "      <th>parent_id</th>\n",
       "      <th>score</th>\n",
       "      <th>id</th>\n",
       "      <th>subreddit</th>\n",
       "      <th>sarcasm_tag</th>\n",
       "      <th>sarcasm</th>\n",
       "    </tr>\n",
       "  </thead>\n",
       "  <tbody>\n",
       "    <tr>\n",
       "      <th>32</th>\n",
       "      <td>3821</td>\n",
       "      <td>&amp;gt; It's just not. \\n\\nWow way to really cont...</td>\n",
       "      <td>ropeadoped</td>\n",
       "      <td>1441425716</td>\n",
       "      <td>t5_2qh6e</td>\n",
       "      <td>t3_3jp4fr</td>\n",
       "      <td>t1_cur6sdt</td>\n",
       "      <td>-4</td>\n",
       "      <td>cur83kh</td>\n",
       "      <td>television</td>\n",
       "      <td>yes</td>\n",
       "      <td>1</td>\n",
       "    </tr>\n",
       "    <tr>\n",
       "      <th>116</th>\n",
       "      <td>3822</td>\n",
       "      <td>Maybe you shouldn't be in a thread about the b...</td>\n",
       "      <td>Damn_Dog_Inappropes</td>\n",
       "      <td>1441486521</td>\n",
       "      <td>t5_2qh6e</td>\n",
       "      <td>t3_3jpljt</td>\n",
       "      <td>t1_curjpl4</td>\n",
       "      <td>4</td>\n",
       "      <td>curu8ht</td>\n",
       "      <td>television</td>\n",
       "      <td>yes</td>\n",
       "      <td>1</td>\n",
       "    </tr>\n",
       "    <tr>\n",
       "      <th>121</th>\n",
       "      <td>3824</td>\n",
       "      <td>FUCK!! FUCK!! FUCK!!! FUUCCCCCCCCK!!! BOMBOBLO...</td>\n",
       "      <td>Kush_Daz</td>\n",
       "      <td>1441491179</td>\n",
       "      <td>t5_2qh6e</td>\n",
       "      <td>t3_3jpljt</td>\n",
       "      <td>t1_curqbij</td>\n",
       "      <td>0</td>\n",
       "      <td>curwkwl</td>\n",
       "      <td>television</td>\n",
       "      <td>yes</td>\n",
       "      <td>1</td>\n",
       "    </tr>\n",
       "    <tr>\n",
       "      <th>126</th>\n",
       "      <td>3823</td>\n",
       "      <td>OH MY GOD I AM SO SORRY!!!! FUCK! I feel so ba...</td>\n",
       "      <td>Joename_</td>\n",
       "      <td>1441498254</td>\n",
       "      <td>t5_2qh6e</td>\n",
       "      <td>t3_3jpljt</td>\n",
       "      <td>t1_curwkwl</td>\n",
       "      <td>2</td>\n",
       "      <td>cus02ym</td>\n",
       "      <td>television</td>\n",
       "      <td>yes</td>\n",
       "      <td>1</td>\n",
       "    </tr>\n",
       "    <tr>\n",
       "      <th>161</th>\n",
       "      <td>3825</td>\n",
       "      <td>You mean piracy?</td>\n",
       "      <td>PicopicoEMD</td>\n",
       "      <td>1441583828</td>\n",
       "      <td>t5_2qh6e</td>\n",
       "      <td>t3_3jw7qx</td>\n",
       "      <td>t3_3jw7qx</td>\n",
       "      <td>-1</td>\n",
       "      <td>cusy92j</td>\n",
       "      <td>television</td>\n",
       "      <td>yes</td>\n",
       "      <td>1</td>\n",
       "    </tr>\n",
       "  </tbody>\n",
       "</table>\n",
       "</div>"
      ],
      "text/plain": [
       "     index                                               body  \\\n",
       "32    3821  &gt; It's just not. \\n\\nWow way to really cont...   \n",
       "116   3822  Maybe you shouldn't be in a thread about the b...   \n",
       "121   3824  FUCK!! FUCK!! FUCK!!! FUUCCCCCCCCK!!! BOMBOBLO...   \n",
       "126   3823  OH MY GOD I AM SO SORRY!!!! FUCK! I feel so ba...   \n",
       "161   3825                                   You mean piracy?   \n",
       "\n",
       "                  author  created_utc subreddit_id    link_id   parent_id  \\\n",
       "32            ropeadoped   1441425716     t5_2qh6e  t3_3jp4fr  t1_cur6sdt   \n",
       "116  Damn_Dog_Inappropes   1441486521     t5_2qh6e  t3_3jpljt  t1_curjpl4   \n",
       "121             Kush_Daz   1441491179     t5_2qh6e  t3_3jpljt  t1_curqbij   \n",
       "126             Joename_   1441498254     t5_2qh6e  t3_3jpljt  t1_curwkwl   \n",
       "161          PicopicoEMD   1441583828     t5_2qh6e  t3_3jw7qx   t3_3jw7qx   \n",
       "\n",
       "     score       id   subreddit sarcasm_tag  sarcasm  \n",
       "32      -4  cur83kh  television         yes        1  \n",
       "116      4  curu8ht  television         yes        1  \n",
       "121      0  curwkwl  television         yes        1  \n",
       "126      2  cus02ym  television         yes        1  \n",
       "161     -1  cusy92j  television         yes        1  "
      ]
     },
     "execution_count": 243,
     "metadata": {},
     "output_type": "execute_result"
    }
   ],
   "source": [
    "data[data.sarcasm_tag == 'yes'].head()"
   ]
  },
  {
   "cell_type": "code",
   "execution_count": 212,
   "metadata": {
    "collapsed": false
   },
   "outputs": [],
   "source": [
    "tfid = TfidfVectorizer(stop_words=stopwords.words('english'), token_pattern=r'[%s]+' % string.ascii_letters)"
   ]
  },
  {
   "cell_type": "code",
   "execution_count": 213,
   "metadata": {
    "collapsed": false
   },
   "outputs": [],
   "source": [
    "tf_idf_array = tfid.fit_transform(data['body']).toarray()"
   ]
  },
  {
   "cell_type": "code",
   "execution_count": 214,
   "metadata": {
    "collapsed": false
   },
   "outputs": [],
   "source": [
    "tf_idf_array = pd.DataFrame(data=tf_idf_array, columns=tfid.get_feature_names())"
   ]
  },
  {
   "cell_type": "code",
   "execution_count": 215,
   "metadata": {
    "collapsed": false
   },
   "outputs": [
    {
     "data": {
      "text/plain": [
       "(2694, 7519)"
      ]
     },
     "execution_count": 215,
     "metadata": {},
     "output_type": "execute_result"
    }
   ],
   "source": [
    "tf_idf_array.shape"
   ]
  },
  {
   "cell_type": "markdown",
   "metadata": {},
   "source": [
    "# Spliting Data "
   ]
  },
  {
   "cell_type": "code",
   "execution_count": 216,
   "metadata": {
    "collapsed": true
   },
   "outputs": [],
   "source": [
    "y = data['sarcasm']"
   ]
  },
  {
   "cell_type": "code",
   "execution_count": 218,
   "metadata": {
    "collapsed": false
   },
   "outputs": [],
   "source": [
    "X_train = tf_idf_array.ix[:2000, :]\n",
    "X_test = tf_idf_array.ix[2000 :, :]\n",
    "y_train = data.ix[:2000, 'sarcasm']\n",
    "y_test = data.ix[2000 : , 'sarcasm']"
   ]
  },
  {
   "cell_type": "code",
   "execution_count": 220,
   "metadata": {
    "collapsed": false
   },
   "outputs": [
    {
     "data": {
      "text/plain": [
       "0    0\n",
       "1    0\n",
       "2    0\n",
       "3    0\n",
       "4    0\n",
       "Name: sarcasm, dtype: int64"
      ]
     },
     "execution_count": 220,
     "metadata": {},
     "output_type": "execute_result"
    }
   ],
   "source": [
    "y_train.head()"
   ]
  },
  {
   "cell_type": "markdown",
   "metadata": {},
   "source": [
    "# Multinomial Naive Byes"
   ]
  },
  {
   "cell_type": "code",
   "execution_count": 237,
   "metadata": {
    "collapsed": false
   },
   "outputs": [
    {
     "name": "stdout",
     "output_type": "stream",
     "text": [
      "Wall time: 188 ms\n"
     ]
    }
   ],
   "source": [
    "%time Mnb = MultinomialNB().fit(X_train, y_train)"
   ]
  },
  {
   "cell_type": "code",
   "execution_count": 238,
   "metadata": {
    "collapsed": false
   },
   "outputs": [],
   "source": [
    "preds = Mnb.predict(X_test)"
   ]
  },
  {
   "cell_type": "code",
   "execution_count": 239,
   "metadata": {
    "collapsed": false
   },
   "outputs": [
    {
     "data": {
      "text/plain": [
       "0.97838616714697402"
      ]
     },
     "execution_count": 239,
     "metadata": {},
     "output_type": "execute_result"
    }
   ],
   "source": [
    "accuracy_score(y_test, preds)"
   ]
  },
  {
   "cell_type": "markdown",
   "metadata": {},
   "source": [
    "# Bernoulli Naive Byes"
   ]
  },
  {
   "cell_type": "code",
   "execution_count": 240,
   "metadata": {
    "collapsed": true
   },
   "outputs": [],
   "source": [
    "Bnb = BernoulliNB().fit(X_train, y_train)"
   ]
  },
  {
   "cell_type": "code",
   "execution_count": 241,
   "metadata": {
    "collapsed": false
   },
   "outputs": [
    {
     "data": {
      "text/plain": [
       "0.9610951008645533"
      ]
     },
     "execution_count": 241,
     "metadata": {},
     "output_type": "execute_result"
    }
   ],
   "source": [
    "preds = Bnb.predict(X_test)\n",
    "accuracy_score(y_test, preds)"
   ]
  }
 ],
 "metadata": {
  "kernelspec": {
   "display_name": "Python 3",
   "language": "python",
   "name": "python3"
  },
  "language_info": {
   "codemirror_mode": {
    "name": "ipython",
    "version": 3
   },
   "file_extension": ".py",
   "mimetype": "text/x-python",
   "name": "python",
   "nbconvert_exporter": "python",
   "pygments_lexer": "ipython3",
   "version": "3.5.2"
  }
 },
 "nbformat": 4,
 "nbformat_minor": 2
}
