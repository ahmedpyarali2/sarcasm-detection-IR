{
 "cells": [
  {
   "cell_type": "markdown",
   "metadata": {},
   "source": [
    "# Implementing SVM#"
   ]
  },
  {
   "cell_type": "code",
   "execution_count": 155,
   "metadata": {
    "collapsed": true
   },
   "outputs": [],
   "source": [
    "%matplotlib inline\n",
    "import pandas as pd\n",
    "import numpy as np\n",
    "import matplotlib.pyplot as plt\n",
    "import nltk\n",
    "import re\n",
    "import string\n",
    "from nltk.corpus import stopwords\n",
    "from nltk.tokenize import word_tokenize\n",
    "from sklearn.feature_extraction.text import TfidfVectorizer\n",
    "from sklearn.decomposition import PCA\n",
    "from sklearn.naive_bayes import MultinomialNB, BernoulliNB"
   ]
  },
  {
   "cell_type": "code",
   "execution_count": 148,
   "metadata": {
    "collapsed": true
   },
   "outputs": [],
   "source": [
    "plt.style.use('ggplot')"
   ]
  },
  {
   "cell_type": "code",
   "execution_count": 149,
   "metadata": {
    "collapsed": true
   },
   "outputs": [],
   "source": [
    "data = pd.read_csv('../Data/reddit_training.csv')"
   ]
  },
  {
   "cell_type": "code",
   "execution_count": 150,
   "metadata": {
    "collapsed": false
   },
   "outputs": [
    {
     "data": {
      "text/html": [
       "<div>\n",
       "<table border=\"1\" class=\"dataframe\">\n",
       "  <thead>\n",
       "    <tr style=\"text-align: right;\">\n",
       "      <th></th>\n",
       "      <th>index</th>\n",
       "      <th>body</th>\n",
       "      <th>author</th>\n",
       "      <th>created_utc</th>\n",
       "      <th>subreddit_id</th>\n",
       "      <th>link_id</th>\n",
       "      <th>parent_id</th>\n",
       "      <th>score</th>\n",
       "      <th>id</th>\n",
       "      <th>subreddit</th>\n",
       "      <th>sarcasm_tag</th>\n",
       "    </tr>\n",
       "  </thead>\n",
       "  <tbody>\n",
       "    <tr>\n",
       "      <th>0</th>\n",
       "      <td>954</td>\n",
       "      <td>That video was NOT the actual jokes, which dis...</td>\n",
       "      <td>SnoopyFandango</td>\n",
       "      <td>1441133826</td>\n",
       "      <td>t5_2qh6e</td>\n",
       "      <td>t3_3j9177</td>\n",
       "      <td>t3_3j9177</td>\n",
       "      <td>16</td>\n",
       "      <td>cunauaf</td>\n",
       "      <td>television</td>\n",
       "      <td>no</td>\n",
       "    </tr>\n",
       "    <tr>\n",
       "      <th>1</th>\n",
       "      <td>957</td>\n",
       "      <td>I wash shocked to realize that the actual foot...</td>\n",
       "      <td>mortal_cum_bat</td>\n",
       "      <td>1441135440</td>\n",
       "      <td>t5_2qh6e</td>\n",
       "      <td>t3_3j9177</td>\n",
       "      <td>t1_cunauaf</td>\n",
       "      <td>3</td>\n",
       "      <td>cunbw3h</td>\n",
       "      <td>television</td>\n",
       "      <td>no</td>\n",
       "    </tr>\n",
       "    <tr>\n",
       "      <th>2</th>\n",
       "      <td>956</td>\n",
       "      <td>I could have sworn I saw it a few months ago. ...</td>\n",
       "      <td>HolidayInnCambodia</td>\n",
       "      <td>1441136214</td>\n",
       "      <td>t5_2qh6e</td>\n",
       "      <td>t3_3j9177</td>\n",
       "      <td>t1_cunbw3h</td>\n",
       "      <td>4</td>\n",
       "      <td>cunceo7</td>\n",
       "      <td>television</td>\n",
       "      <td>no</td>\n",
       "    </tr>\n",
       "    <tr>\n",
       "      <th>3</th>\n",
       "      <td>958</td>\n",
       "      <td>Penn and Tellers BS has Gottfried on telling t...</td>\n",
       "      <td>hereticsmurf</td>\n",
       "      <td>1441138662</td>\n",
       "      <td>t5_2qh6e</td>\n",
       "      <td>t3_3j9177</td>\n",
       "      <td>t3_3j9177</td>\n",
       "      <td>2</td>\n",
       "      <td>cune0yw</td>\n",
       "      <td>television</td>\n",
       "      <td>no</td>\n",
       "    </tr>\n",
       "    <tr>\n",
       "      <th>4</th>\n",
       "      <td>959</td>\n",
       "      <td>Wasn't the whole bit in the Aristocrats docume...</td>\n",
       "      <td>jbiresq</td>\n",
       "      <td>1441143930</td>\n",
       "      <td>t5_2qh6e</td>\n",
       "      <td>t3_3j9177</td>\n",
       "      <td>t3_3j9177</td>\n",
       "      <td>2</td>\n",
       "      <td>cunhg2v</td>\n",
       "      <td>television</td>\n",
       "      <td>no</td>\n",
       "    </tr>\n",
       "  </tbody>\n",
       "</table>\n",
       "</div>"
      ],
      "text/plain": [
       "   index                                               body  \\\n",
       "0    954  That video was NOT the actual jokes, which dis...   \n",
       "1    957  I wash shocked to realize that the actual foot...   \n",
       "2    956  I could have sworn I saw it a few months ago. ...   \n",
       "3    958  Penn and Tellers BS has Gottfried on telling t...   \n",
       "4    959  Wasn't the whole bit in the Aristocrats docume...   \n",
       "\n",
       "               author  created_utc subreddit_id    link_id   parent_id  score  \\\n",
       "0      SnoopyFandango   1441133826     t5_2qh6e  t3_3j9177   t3_3j9177     16   \n",
       "1      mortal_cum_bat   1441135440     t5_2qh6e  t3_3j9177  t1_cunauaf      3   \n",
       "2  HolidayInnCambodia   1441136214     t5_2qh6e  t3_3j9177  t1_cunbw3h      4   \n",
       "3        hereticsmurf   1441138662     t5_2qh6e  t3_3j9177   t3_3j9177      2   \n",
       "4             jbiresq   1441143930     t5_2qh6e  t3_3j9177   t3_3j9177      2   \n",
       "\n",
       "        id   subreddit sarcasm_tag  \n",
       "0  cunauaf  television          no  \n",
       "1  cunbw3h  television          no  \n",
       "2  cunceo7  television          no  \n",
       "3  cune0yw  television          no  \n",
       "4  cunhg2v  television          no  "
      ]
     },
     "execution_count": 150,
     "metadata": {},
     "output_type": "execute_result"
    }
   ],
   "source": [
    "data.head()"
   ]
  },
  {
   "cell_type": "code",
   "execution_count": 151,
   "metadata": {
    "collapsed": false
   },
   "outputs": [],
   "source": [
    "tfid = TfidfVectorizer(stop_words=stopwords.words('english'), token_pattern=r'[%s]+' % string.ascii_letters)"
   ]
  },
  {
   "cell_type": "code",
   "execution_count": 152,
   "metadata": {
    "collapsed": false
   },
   "outputs": [],
   "source": [
    "tf_idf_array = tfid.fit_transform(data['body']).toarray()"
   ]
  },
  {
   "cell_type": "code",
   "execution_count": 153,
   "metadata": {
    "collapsed": false
   },
   "outputs": [],
   "source": [
    "tf_idf_array = pd.DataFrame(data=tf_idf_array, columns=tfid.get_feature_names())"
   ]
  },
  {
   "cell_type": "code",
   "execution_count": 154,
   "metadata": {
    "collapsed": false
   },
   "outputs": [
    {
     "data": {
      "text/html": [
       "<div>\n",
       "<table border=\"1\" class=\"dataframe\">\n",
       "  <thead>\n",
       "    <tr style=\"text-align: right;\">\n",
       "      <th></th>\n",
       "      <th>aaaaaaiiiiiiiii</th>\n",
       "      <th>aaand</th>\n",
       "      <th>aaawwww</th>\n",
       "      <th>aang</th>\n",
       "      <th>aaron</th>\n",
       "      <th>abandoned</th>\n",
       "      <th>abbout</th>\n",
       "      <th>abc</th>\n",
       "      <th>abduction</th>\n",
       "      <th>abilities</th>\n",
       "      <th>...</th>\n",
       "      <th>zap</th>\n",
       "      <th>zbzct</th>\n",
       "      <th>zenith</th>\n",
       "      <th>zero</th>\n",
       "      <th>zippity</th>\n",
       "      <th>zoey</th>\n",
       "      <th>zombie</th>\n",
       "      <th>zone</th>\n",
       "      <th>zoo</th>\n",
       "      <th>zucluyhxsec</th>\n",
       "    </tr>\n",
       "  </thead>\n",
       "  <tbody>\n",
       "    <tr>\n",
       "      <th>0</th>\n",
       "      <td>0.0</td>\n",
       "      <td>0.0</td>\n",
       "      <td>0.0</td>\n",
       "      <td>0.0</td>\n",
       "      <td>0.0</td>\n",
       "      <td>0.0</td>\n",
       "      <td>0.0</td>\n",
       "      <td>0.0</td>\n",
       "      <td>0.0</td>\n",
       "      <td>0.0</td>\n",
       "      <td>...</td>\n",
       "      <td>0.0</td>\n",
       "      <td>0.0</td>\n",
       "      <td>0.0</td>\n",
       "      <td>0.0</td>\n",
       "      <td>0.0</td>\n",
       "      <td>0.0</td>\n",
       "      <td>0.0</td>\n",
       "      <td>0.0</td>\n",
       "      <td>0.0</td>\n",
       "      <td>0.0</td>\n",
       "    </tr>\n",
       "    <tr>\n",
       "      <th>1</th>\n",
       "      <td>0.0</td>\n",
       "      <td>0.0</td>\n",
       "      <td>0.0</td>\n",
       "      <td>0.0</td>\n",
       "      <td>0.0</td>\n",
       "      <td>0.0</td>\n",
       "      <td>0.0</td>\n",
       "      <td>0.0</td>\n",
       "      <td>0.0</td>\n",
       "      <td>0.0</td>\n",
       "      <td>...</td>\n",
       "      <td>0.0</td>\n",
       "      <td>0.0</td>\n",
       "      <td>0.0</td>\n",
       "      <td>0.0</td>\n",
       "      <td>0.0</td>\n",
       "      <td>0.0</td>\n",
       "      <td>0.0</td>\n",
       "      <td>0.0</td>\n",
       "      <td>0.0</td>\n",
       "      <td>0.0</td>\n",
       "    </tr>\n",
       "    <tr>\n",
       "      <th>2</th>\n",
       "      <td>0.0</td>\n",
       "      <td>0.0</td>\n",
       "      <td>0.0</td>\n",
       "      <td>0.0</td>\n",
       "      <td>0.0</td>\n",
       "      <td>0.0</td>\n",
       "      <td>0.0</td>\n",
       "      <td>0.0</td>\n",
       "      <td>0.0</td>\n",
       "      <td>0.0</td>\n",
       "      <td>...</td>\n",
       "      <td>0.0</td>\n",
       "      <td>0.0</td>\n",
       "      <td>0.0</td>\n",
       "      <td>0.0</td>\n",
       "      <td>0.0</td>\n",
       "      <td>0.0</td>\n",
       "      <td>0.0</td>\n",
       "      <td>0.0</td>\n",
       "      <td>0.0</td>\n",
       "      <td>0.0</td>\n",
       "    </tr>\n",
       "    <tr>\n",
       "      <th>3</th>\n",
       "      <td>0.0</td>\n",
       "      <td>0.0</td>\n",
       "      <td>0.0</td>\n",
       "      <td>0.0</td>\n",
       "      <td>0.0</td>\n",
       "      <td>0.0</td>\n",
       "      <td>0.0</td>\n",
       "      <td>0.0</td>\n",
       "      <td>0.0</td>\n",
       "      <td>0.0</td>\n",
       "      <td>...</td>\n",
       "      <td>0.0</td>\n",
       "      <td>0.0</td>\n",
       "      <td>0.0</td>\n",
       "      <td>0.0</td>\n",
       "      <td>0.0</td>\n",
       "      <td>0.0</td>\n",
       "      <td>0.0</td>\n",
       "      <td>0.0</td>\n",
       "      <td>0.0</td>\n",
       "      <td>0.0</td>\n",
       "    </tr>\n",
       "    <tr>\n",
       "      <th>4</th>\n",
       "      <td>0.0</td>\n",
       "      <td>0.0</td>\n",
       "      <td>0.0</td>\n",
       "      <td>0.0</td>\n",
       "      <td>0.0</td>\n",
       "      <td>0.0</td>\n",
       "      <td>0.0</td>\n",
       "      <td>0.0</td>\n",
       "      <td>0.0</td>\n",
       "      <td>0.0</td>\n",
       "      <td>...</td>\n",
       "      <td>0.0</td>\n",
       "      <td>0.0</td>\n",
       "      <td>0.0</td>\n",
       "      <td>0.0</td>\n",
       "      <td>0.0</td>\n",
       "      <td>0.0</td>\n",
       "      <td>0.0</td>\n",
       "      <td>0.0</td>\n",
       "      <td>0.0</td>\n",
       "      <td>0.0</td>\n",
       "    </tr>\n",
       "  </tbody>\n",
       "</table>\n",
       "<p>5 rows × 7519 columns</p>\n",
       "</div>"
      ],
      "text/plain": [
       "   aaaaaaiiiiiiiii  aaand  aaawwww  aang  aaron  abandoned  abbout  abc  \\\n",
       "0              0.0    0.0      0.0   0.0    0.0        0.0     0.0  0.0   \n",
       "1              0.0    0.0      0.0   0.0    0.0        0.0     0.0  0.0   \n",
       "2              0.0    0.0      0.0   0.0    0.0        0.0     0.0  0.0   \n",
       "3              0.0    0.0      0.0   0.0    0.0        0.0     0.0  0.0   \n",
       "4              0.0    0.0      0.0   0.0    0.0        0.0     0.0  0.0   \n",
       "\n",
       "   abduction  abilities     ...       zap  zbzct  zenith  zero  zippity  zoey  \\\n",
       "0        0.0        0.0     ...       0.0    0.0     0.0   0.0      0.0   0.0   \n",
       "1        0.0        0.0     ...       0.0    0.0     0.0   0.0      0.0   0.0   \n",
       "2        0.0        0.0     ...       0.0    0.0     0.0   0.0      0.0   0.0   \n",
       "3        0.0        0.0     ...       0.0    0.0     0.0   0.0      0.0   0.0   \n",
       "4        0.0        0.0     ...       0.0    0.0     0.0   0.0      0.0   0.0   \n",
       "\n",
       "   zombie  zone  zoo  zucluyhxsec  \n",
       "0     0.0   0.0  0.0          0.0  \n",
       "1     0.0   0.0  0.0          0.0  \n",
       "2     0.0   0.0  0.0          0.0  \n",
       "3     0.0   0.0  0.0          0.0  \n",
       "4     0.0   0.0  0.0          0.0  \n",
       "\n",
       "[5 rows x 7519 columns]"
      ]
     },
     "execution_count": 154,
     "metadata": {},
     "output_type": "execute_result"
    }
   ],
   "source": [
    "tf_idf_array.head()"
   ]
  },
  {
   "cell_type": "code",
   "execution_count": 156,
   "metadata": {
    "collapsed": true
   },
   "outputs": [],
   "source": [
    "pca = PCA(n_components=2).fit(tf_idf_array)"
   ]
  },
  {
   "cell_type": "code",
   "execution_count": 157,
   "metadata": {
    "collapsed": true
   },
   "outputs": [],
   "source": [
    "data2d = pca.transform(tf_idf_array)"
   ]
  },
  {
   "cell_type": "code",
   "execution_count": 163,
   "metadata": {
    "collapsed": false
   },
   "outputs": [
    {
     "data": {
      "text/plain": [
       "<matplotlib.collections.PathCollection at 0x46a0a0160>"
      ]
     },
     "execution_count": 163,
     "metadata": {},
     "output_type": "execute_result"
    },
    {
     "data": {
      "image/png": "[encoded data removed]",
      "text/plain": [
       "<matplotlib.figure.Figure at 0x46a05fbe0>"
      ]
     },
     "metadata": {},
     "output_type": "display_data"
    }
   ],
   "source": [
    "plt.scatter(data2d[:, 0], data2d[:, 1], c='g')"
   ]
  },
  {
   "cell_type": "code",
   "execution_count": null,
   "metadata": {
    "collapsed": true
   },
   "outputs": [],
   "source": []
  }
 ],
 "metadata": {
  "kernelspec": {
   "display_name": "Python 3",
   "language": "python",
   "name": "python3"
  },
  "language_info": {
   "codemirror_mode": {
    "name": "ipython",
    "version": 3
   },
   "file_extension": ".py",
   "mimetype": "text/x-python",
   "name": "python",
   "nbconvert_exporter": "python",
   "pygments_lexer": "ipython3",
   "version": "3.5.2"
  }
 },
 "nbformat": 4,
 "nbformat_minor": 2
}
